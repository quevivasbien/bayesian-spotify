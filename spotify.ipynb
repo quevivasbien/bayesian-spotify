{
 "cells": [
  {
   "cell_type": "code",
   "execution_count": null,
   "metadata": {},
   "outputs": [],
   "source": [
    "import spotipy\n",
    "import json\n",
    "import pandas as pd\n",
    "import os"
   ]
  },
  {
   "cell_type": "code",
   "execution_count": null,
   "metadata": {},
   "outputs": [],
   "source": [
    "# setup spotify api object\n",
    "with open('spotify_credentials.json') as fh:\n",
    "    auth = json.load(fh)\n",
    "credentials = spotipy.oauth2.SpotifyClientCredentials(\n",
    "    client_id=auth['client_id'],\n",
    "    client_secret=auth['client_secret'])\n",
    "spotify = spotipy.Spotify(client_credentials_manager=credentials)"
   ]
  },
  {
   "cell_type": "code",
   "execution_count": null,
   "metadata": {},
   "outputs": [],
   "source": [
    "# See what the top weekly lists files look like\n",
    "pd.read_csv('top_weekly_lists/regional-global-weekly-2019-12-27--2020-01-03.csv', header=1)"
   ]
  },
  {
   "cell_type": "code",
   "execution_count": null,
   "metadata": {},
   "outputs": [],
   "source": [
    "# get list of artists on the top 200 weekly lists 30/8/19 to 28/2/20 (about 6 months)\n",
    "top_artists = set()\n",
    "for filename in os.listdir('top_weekly_lists'):\n",
    "    df = pd.read_csv(os.path.join('top_weekly_lists', filename), header=1)\n",
    "    artists = set(df['Artist'])\n",
    "    top_artists.update(artists)"
   ]
  },
  {
   "cell_type": "code",
   "execution_count": null,
   "metadata": {},
   "outputs": [],
   "source": [
    "# get songs for top artists\n",
    "\n",
    "n = len(top_artists)\n",
    "\n",
    "song_ids = set()\n",
    "for i, artist in enumerate(top_artists):\n",
    "    print(f'Progress: {i}/{n}')\n",
    "    artist_dict = spotify.search(artist, type='artist')['artists']['items'][0]\n",
    "    if artist_dict['popularity'] < 50:\n",
    "        # warn since this probably isn't the right artist\n",
    "        print(f\"Artist {artist_dict['name']} has popularity {artist_dict['popularity']}\")\n",
    "    # get all the artist's albums\n",
    "    albums = spotify.artist_albums(artist_dict['id'])['items']\n",
    "    for album in albums:\n",
    "        # get all songs in the album\n",
    "        songs = spotify.album_tracks(album['id'])['items']\n",
    "        song_ids.update(song['id'] for song in songs)\n",
    "    print(f'\\tSongs collected: {len(song_ids)}')"
   ]
  },
  {
   "cell_type": "code",
   "execution_count": null,
   "metadata": {},
   "outputs": [],
   "source": [
    "# save list of song ids to json file\n",
    "with open('song_ids.json', 'w') as fh:\n",
    "    json.dump(list(song_ids), fh)"
   ]
  },
  {
   "cell_type": "code",
   "execution_count": null,
   "metadata": {},
   "outputs": [],
   "source": [
    "# load list of song ids from json file (if already fetched)\n",
    "with open('song_ids.json', 'r') as fh:\n",
    "    song_ids = json.load(fh)"
   ]
  },
  {
   "cell_type": "markdown",
   "metadata": {},
   "source": [
    "Features to include:\n",
    "\n",
    "From `.track`:\n",
    "\n",
    "* number of available markets\n",
    "* is explicit\n",
    "* release date\n",
    "* popularity\n",
    "* track_number\n",
    "\n",
    "from `.audio_features`:\n",
    "\n",
    "* danceability\n",
    "* energy\n",
    "* key\n",
    "* loudness\n",
    "* mode\n",
    "* speechiness\n",
    "* instrumentalness\n",
    "* liveness\n",
    "* valence\n",
    "* tempo\n",
    "* duration_ms\n",
    "* time_signature\n",
    "\n",
    "Careful! Popularity will depend on date collected"
   ]
  },
  {
   "cell_type": "code",
   "execution_count": null,
   "metadata": {},
   "outputs": [],
   "source": [
    "# function for getting the info for songs from song_ids list\n",
    "def get_info(start_index=0, end_index=None):\n",
    "    if end_index is None:\n",
    "        end_index = len(song_ids) - 1\n",
    "    data = []\n",
    "    for i in range(start_index, end_index+1):\n",
    "        print(f'Working... {start_index}->{i}->{end_index}')\n",
    "        song_id = song_ids[i]\n",
    "        track = spotify.track(song_id)\n",
    "        features = spotify.audio_features(song_id)[0]\n",
    "        if features is None:\n",
    "            features = {}\n",
    "        data.append({\n",
    "            'id': song_id,\n",
    "            'popularity': track.get('popularity'),\n",
    "            'explicit': track.get('explicit'),\n",
    "            'availability': len(track.get('available_markets')),\n",
    "            'track_number': track.get('track_number'),\n",
    "            'release_date': track['album'].get('release_date'),\n",
    "            'num_artists': len(track.get('artists')),\n",
    "            'danceability': features.get('danceability'),\n",
    "            'energy': features.get('energy'),\n",
    "            'key': features.get('key'),\n",
    "            'loudness': features.get('loudness'),\n",
    "            'mode': features.get('mode'),\n",
    "            'speechiness': features.get('speechiness'),\n",
    "            'acousticness': features.get('acousticness'),\n",
    "            'instrumentalness': features.get('instrumentalness'),\n",
    "            'liveness': features.get('liveness'),\n",
    "            'valence': features.get('valence'),\n",
    "            'tempo': features.get('tempo'),\n",
    "            'duration_ms': features.get('duration_ms'),\n",
    "            'time_signature': features.get('time_signature')\n",
    "        })\n",
    "    pd.DataFrame(data).set_index('id').to_csv(os.path.join('data', f'song_data_{start_index}_{end_index}.csv'))"
   ]
  },
  {
   "cell_type": "code",
   "execution_count": null,
   "metadata": {},
   "outputs": [],
   "source": [
    "%time get_info() # this takes about 1/2 hour per 10,000 songs (~2.5 hrs for all songs)"
   ]
  }
 ],
 "metadata": {
  "kernelspec": {
   "display_name": "Python 3",
   "language": "python",
   "name": "python3"
  },
  "language_info": {
   "codemirror_mode": {
    "name": "ipython",
    "version": 3
   },
   "file_extension": ".py",
   "mimetype": "text/x-python",
   "name": "python",
   "nbconvert_exporter": "python",
   "pygments_lexer": "ipython3",
   "version": "3.7.4"
  }
 },
 "nbformat": 4,
 "nbformat_minor": 2
}
